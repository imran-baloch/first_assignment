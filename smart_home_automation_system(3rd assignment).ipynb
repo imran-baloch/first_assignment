{
 "cells": [
  {
   "cell_type": "markdown",
   "id": "d09545c7",
   "metadata": {},
   "source": [
    "### Python Assignment: Smart Home\n",
    "Automation System\n",
    "📌 Scenario:\n",
    "You are developing a Smart Home Automation System that allows users to control and\n",
    "monitor various home appliances using Python data structures like Lists, Tuples,\n",
    "Dictionaries, Sets, and Functions.\n",
    "Your task is to implement different functionalities step by step.\n",
    "\n",
    "1. Device Management (Lists & Tuples)\n",
    "\n",
    "Task 1.1: Create and Manage a List of Smart Devices\n",
    "● Create a list of at least 5 smart home devices (e.g., \"Lights\", \"Fan\", \"AC\", \"Door\n",
    "Lock\", \"Thermostat\").\n",
    "● Allow the user to:\n",
    "○ Add a new device.\n",
    "○ Remove a device.\n",
    "○ Sort devices alphabetically.\n",
    "\n",
    "✍️ Example Outpu\n",
    "Devices: ['Lights', 'Fan', 'AC', 'Door Lock', 'Thermostat']\n",
    "Updated Devices: ['Lights', 'Fan', 'AC', 'Door Lock', 'Thermostat',\n",
    "'Security Camera']\n",
    "Sorted Devices: ['AC', 'Door Lock', 'Fan', 'Lights', 'Security\n",
    "Camera', 'Thermostat']"
   ]
  },
  {
   "cell_type": "code",
   "execution_count": 7,
   "id": "3040faca",
   "metadata": {},
   "outputs": [],
   "source": [
    "home_appliances = ['Lights', 'Fan','AC', 'Door Lock', 'Thermostat']"
   ]
  },
  {
   "cell_type": "code",
   "execution_count": 8,
   "id": "04003277",
   "metadata": {},
   "outputs": [
    {
     "name": "stdout",
     "output_type": "stream",
     "text": [
      "['Lights', 'Fan', 'AC', 'Door Lock', 'Thermostat']\n"
     ]
    }
   ],
   "source": [
    "print(home_appliances)"
   ]
  },
  {
   "cell_type": "code",
   "execution_count": 9,
   "id": "2bf15b03",
   "metadata": {},
   "outputs": [],
   "source": [
    "home_appliances.append('Security Camera')"
   ]
  },
  {
   "cell_type": "code",
   "execution_count": 10,
   "id": "26b83603",
   "metadata": {},
   "outputs": [
    {
     "name": "stdout",
     "output_type": "stream",
     "text": [
      "['Lights', 'Fan', 'AC', 'Door Lock', 'Thermostat', 'Security Camera']\n"
     ]
    }
   ],
   "source": [
    "print(home_appliances)"
   ]
  },
  {
   "cell_type": "code",
   "execution_count": 11,
   "id": "8e483ead",
   "metadata": {},
   "outputs": [
    {
     "name": "stdout",
     "output_type": "stream",
     "text": [
      "['AC', 'Door Lock', 'Fan', 'Lights', 'Security Camera', 'Thermostat']\n"
     ]
    }
   ],
   "source": [
    "home_appliances.sort()\n",
    "print(home_appliances)"
   ]
  },
  {
   "cell_type": "markdown",
   "id": "15914ccc",
   "metadata": {},
   "source": [
    "### Task 1.2: Store Device Settings Using Tuples\n",
    "● Define a tuple for each device, containing:\n",
    "\n",
    "○ Device name\n",
    "○ Device status (ON/OFF)\n",
    "○ Device power consumption (in Watts)\n",
    "● Allow users to view all devices with their status and power consumption.\n",
    "✍️ Example Outpu\n",
    "\n",
    "Lights: ('Lights', 'ON', 60)\n",
    "\n",
    "Fan: ('Fan', 'OFF', 40)\n",
    "\n",
    "AC: ('AC', 'ON', 1500)"
   ]
  },
  {
   "cell_type": "code",
   "execution_count": 12,
   "id": "8ac7024d",
   "metadata": {},
   "outputs": [
    {
     "name": "stdout",
     "output_type": "stream",
     "text": [
      "('Lights', 'ON', 70)\n",
      "('Fan', 'ON', 120)\n",
      "('AC', 'ON', 1500)\n"
     ]
    }
   ],
   "source": [
    "Lights = ('Lights', 'ON', 70)\n",
    "Fan = ('Fan', 'ON', 120)\n",
    "AC = ('AC', 'ON', 1500)\n",
    "print(Lights)\n",
    "print(Fan)\n",
    "print(AC)"
   ]
  },
  {
   "cell_type": "markdown",
   "id": "1548c0dc",
   "metadata": {},
   "source": [
    "### 2. Energy Consumption Tracker (Dictionaries & Sets) \n",
    "### Task 2.1: Store Device Energy Usage in a Dictionary \n",
    "● Create a dictionary where:\n",
    "\n",
    "○ Keys: Smart home devices (e.g., \"Lights\", \"AC\", \"Fan\"). \n",
    "\n",
    "○ Values: Energy usage (in kWh). \n",
    "\n",
    "● Allow users to: \n",
    "\n",
    "○ Add new energy usage data. \n",
    "○ Update existing usage. \n",
    "○ Remove a device's energy usage. \n",
    "○ Display total energy consumption. \n",
    "\n",
    "✍️ Example Outpu \n",
    "\n",
    "Initial Energy Usage: {'Lights': 5, 'AC': 120, 'Fan': 30} \n",
    "Updated Energy Usage: {'Lights': 5, 'AC': 110, 'Fan': 30, 'Thermostat': 20} \n",
    "\n",
    "Total Energy Consumption: 165 kWh \n"
   ]
  },
  {
   "cell_type": "code",
   "execution_count": 21,
   "id": "1935c640",
   "metadata": {},
   "outputs": [],
   "source": [
    "initial_energy_usage = {'Lights': 5,\n",
    "                        'AC': 120,\n",
    "                        'Fan': 30}"
   ]
  },
  {
   "cell_type": "code",
   "execution_count": 22,
   "id": "50e119c8",
   "metadata": {},
   "outputs": [],
   "source": [
    "updated_energy_usage = initial_energy_usage\n"
   ]
  },
  {
   "cell_type": "code",
   "execution_count": 43,
   "id": "cfccca06",
   "metadata": {},
   "outputs": [
    {
     "name": "stdout",
     "output_type": "stream",
     "text": [
      "{'Lights': 5, 'AC': 110, 'Fan': 30, 'Thermostate': 20}\n"
     ]
    }
   ],
   "source": [
    "updated_energy_usage['Lights'] = 5\n",
    "updated_energy_usage['AC'] = 110\n",
    "updated_energy_usage['Fan'] = 30\n",
    "updated_energy_usage['Thermostate'] = 20\n",
    "print(updated_energy_usage)"
   ]
  },
  {
   "cell_type": "code",
   "execution_count": 44,
   "id": "0b35c843",
   "metadata": {},
   "outputs": [
    {
     "name": "stdout",
     "output_type": "stream",
     "text": [
      "Total Energy Consumption 165 kWh\n"
     ]
    }
   ],
   "source": [
    "total_value = 0\n",
    "\n",
    "for v in updated_energy_usage.values():\n",
    "    total_value += v\n",
    "print(f\"Total Energy Consumption {total_value} kWh\")\n",
    "\n"
   ]
  },
  {
   "cell_type": "code",
   "execution_count": 45,
   "id": "d3bc0003",
   "metadata": {},
   "outputs": [
    {
     "name": "stdout",
     "output_type": "stream",
     "text": [
      "Total Energy Consumption 165 kWh\n"
     ]
    }
   ],
   "source": [
    "total_energy = sum((updated_energy_usage.values()))\n",
    "print(f\"Total Energy Consumption {total_energy} kWh\")"
   ]
  },
  {
   "cell_type": "markdown",
   "id": "d95ae529",
   "metadata": {},
   "source": [
    "### Task 2.2: Identify Unique Power-Saving Modes Using Sets \n",
    "\n",
    "● Create a set to store unique power-saving modes (e.g., \"Eco Mode\", \"Night Mode\", \"Away Mode\"). \n",
    "\n",
    "● Allow users to: \n",
    "\n",
    "○ Add a new mode. \n",
    "\n",
    "○ Check if a mode is available. \n",
    "\n",
    "○ View all power-saving modes. \n",
    "\n",
    "✍️ Example Outpu \n",
    "\n",
    "Power-Saving Modes: {'Eco Mode', 'Night Mode'} \n",
    "\n",
    "New Mode Added: 'Away Mode' \n",
    "\n",
    "Updated Modes: {'Eco Mode', 'Night Mode', 'Away Mode'}\n"
   ]
  },
  {
   "cell_type": "code",
   "execution_count": 46,
   "id": "336ff8d9",
   "metadata": {},
   "outputs": [],
   "source": [
    "power_saving_modes = {'Eco Mode', 'Night Mode'}"
   ]
  },
  {
   "cell_type": "code",
   "execution_count": 47,
   "id": "d15036c9",
   "metadata": {},
   "outputs": [
    {
     "name": "stdout",
     "output_type": "stream",
     "text": [
      "{'Eco Mode', 'Night Mode'}\n"
     ]
    }
   ],
   "source": [
    "print(power_saving_modes)"
   ]
  },
  {
   "cell_type": "code",
   "execution_count": 48,
   "id": "851683b8",
   "metadata": {},
   "outputs": [],
   "source": [
    "power_saving_modes.add('Away Mode')"
   ]
  },
  {
   "cell_type": "code",
   "execution_count": 52,
   "id": "03ae1252",
   "metadata": {},
   "outputs": [
    {
     "name": "stdout",
     "output_type": "stream",
     "text": [
      "Updated Modes : {'Away Mode', 'Eco Mode', 'Night Mode'}.\n"
     ]
    }
   ],
   "source": [
    "print(f'Updated Modes : {power_saving_modes}.')"
   ]
  },
  {
   "cell_type": "markdown",
   "id": "ef3316bd",
   "metadata": {},
   "source": [
    "### 3. Functions for Smart Home Automation Task 3.1: Create a Function to Calculate Monthly Energy Cost \n",
    "\n",
    "● Write a function calculate_energy_cost(energy_usage, rate_per_kwh) that: \n",
    "\n",
    "○ Takes total energy usage (kWh) and electricity rate per kWh as input. ○ Calculates total monthly cost. \n",
    "\n",
    "✍️ Example Input & Outpu \n",
    "\n",
    "calculate_energy_cost(165, 0.12) \n",
    "\n",
    "Output: \"Total Monthly Energy Cost: $19.80\" \n"
   ]
  },
  {
   "cell_type": "code",
   "execution_count": 58,
   "id": "741cc2d3",
   "metadata": {},
   "outputs": [
    {
     "name": "stdout",
     "output_type": "stream",
     "text": [
      "Total Monthly Energy Cost is $19.8\n"
     ]
    }
   ],
   "source": [
    "def calculate_energy_cost(energy_usage, rate_per_kwh):\n",
    "    print(f\"Total Monthly Energy Cost is ${energy_usage*rate_per_kwh}\")\n",
    "\n",
    "calculate_energy_cost(165,0.12)"
   ]
  },
  {
   "cell_type": "markdown",
   "id": "d03639e9",
   "metadata": {},
   "source": [
    "### Task 3.2: Create a Function to Find Common Devices in Two Homes \n",
    "\n",
    "● Write a function that: \n",
    "\n",
    "○ Takes two lists of smart devices from two different homes. \n",
    "\n",
    "○ Returns a set of common devices. \n",
    "\n",
    "✍️ Example Input & Outpu \n",
    "\n",
    "home1_devices = ['Lights', 'AC', 'Fan'] \n",
    "\n",
    "home2_devices = ['Fan', 'Door Lock', 'Lights'] \n",
    "\n",
    "find_common_devices(home1_devices, home2_devices) \n",
    "\n",
    "Output: {'Lights', 'Fan'} \n"
   ]
  },
  {
   "cell_type": "code",
   "execution_count": 65,
   "id": "efbf889b",
   "metadata": {},
   "outputs": [],
   "source": [
    "home1_devices = ['Lights', 'AC', 'Fan']\n",
    "home2_devices = ['Fan', 'Door Lock', 'Lights']\n",
    "\n",
    "common_devices = set()\n",
    "def find_common_devices(home1_devices, home2_devices):\n",
    "    for device in home1_devices:\n",
    "        for common in home2_devices:\n",
    "            if device == common:\n",
    "                common_devices.add(device)\n",
    "                \n",
    "find_common_devices(home1_devices, home2_devices)"
   ]
  },
  {
   "cell_type": "code",
   "execution_count": 66,
   "id": "83755980",
   "metadata": {},
   "outputs": [
    {
     "name": "stdout",
     "output_type": "stream",
     "text": [
      "{'Lights', 'Fan'}\n"
     ]
    }
   ],
   "source": [
    "print(common_devices)"
   ]
  },
  {
   "cell_type": "markdown",
   "id": "b550985b",
   "metadata": {},
   "source": [
    "### 4. Automation Features (Advanced Functions) \n",
    "##### Task 4.1: Create an Automation Rule Using Functions \n",
    "\n",
    "● Write a function set_automation_rule(device, time, action) that: ○ Takes a device name, time, and an action (ON/OFF). \n",
    "\n",
    "○ Returns a message indicating the automation rule. \n",
    "\n",
    "✍️ Example Input & Outpu \n",
    "\n",
    "set_automation_rule(\"Lights\", \"10:00 PM\", \"OFF\")\n",
    "\n",
    "Output: \"Automation Rule: Lights will be turned OFF at 10:00 PM.\" \n"
   ]
  },
  {
   "cell_type": "code",
   "execution_count": 71,
   "id": "d362a81a",
   "metadata": {},
   "outputs": [
    {
     "name": "stdout",
     "output_type": "stream",
     "text": [
      "Automation Rule: Lights will be turned OFF at 10:00 PM\n"
     ]
    }
   ],
   "source": [
    "def set_automation_rule(device, time, action):\n",
    "    print(f'Automation Rule: {device.title()} will be turned {action.upper()} at {time.upper()}')\n",
    "\n",
    "set_automation_rule('lights', '10:00 pm', 'off')"
   ]
  },
  {
   "cell_type": "markdown",
   "id": "09beb437",
   "metadata": {},
   "source": [
    "### Task 4.2: Function to Optimize Power Consumption \n",
    "\n",
    "● Write a function that: \n",
    "\n",
    "○ Takes a list of devices with their power usage. \n",
    "\n",
    "○ Turns off devices consuming high power (> 1000W). \n",
    "\n",
    "○ Returns an updated list of active devices. \n",
    "\n",
    "✍️ Example Input & Outpu \n",
    "\n",
    "devices = [(\"Lights\", 60), (\"AC\", 1500), (\"Fan\", 40), (\"Heater\", 2000)] \n",
    "optimize_power(devices) \n",
    "\n",
    "Output: ['Lights', 'Fan'] \n"
   ]
  },
  {
   "cell_type": "code",
   "execution_count": 76,
   "id": "261494b3",
   "metadata": {},
   "outputs": [],
   "source": [
    "devices = [(\"Lights\", 60), (\"AC\", 1500), (\"Fan\", 40), (\"Heater\", 2000)] \n",
    "\n",
    "def optimize_power(devices):\n",
    "    for device, power in devices:\n",
    "        if power > 1000:\n",
    "            pass\n",
    "        else:\n",
    "            print(device)\n",
    "        "
   ]
  },
  {
   "cell_type": "code",
   "execution_count": 77,
   "id": "f3e9c285",
   "metadata": {},
   "outputs": [
    {
     "name": "stdout",
     "output_type": "stream",
     "text": [
      "Lights\n",
      "Fan\n"
     ]
    }
   ],
   "source": [
    "optimize_power(devices)"
   ]
  },
  {
   "cell_type": "code",
   "execution_count": null,
   "id": "8d5c9ed4",
   "metadata": {},
   "outputs": [],
   "source": []
  }
 ],
 "metadata": {
  "kernelspec": {
   "display_name": "Python 3 (ipykernel)",
   "language": "python",
   "name": "python3"
  },
  "language_info": {
   "codemirror_mode": {
    "name": "ipython",
    "version": 3
   },
   "file_extension": ".py",
   "mimetype": "text/x-python",
   "name": "python",
   "nbconvert_exporter": "python",
   "pygments_lexer": "ipython3",
   "version": "3.10.9"
  }
 },
 "nbformat": 4,
 "nbformat_minor": 5
}
