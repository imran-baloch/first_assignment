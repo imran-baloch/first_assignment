{
 "cells": [
  {
   "cell_type": "code",
   "execution_count": 12,
   "id": "e236a2bd",
   "metadata": {},
   "outputs": [
    {
     "name": "stdout",
     "output_type": "stream",
     "text": [
      "2 x 1 = 2\n",
      "2 x 2 = 4\n",
      "2 x 3 = 6\n",
      "2 x 4 = 8\n",
      "2 x 5 = 10\n",
      "2 x 6 = 12\n",
      "2 x 7 = 14\n",
      "2 x 8 = 16\n",
      "2 x 9 = 18\n",
      "2 x 10 = 20\n",
      "3 x 1 = 3\n",
      "3 x 2 = 6\n",
      "3 x 3 = 9\n",
      "3 x 4 = 12\n",
      "3 x 5 = 15\n",
      "3 x 6 = 18\n",
      "3 x 7 = 21\n",
      "3 x 8 = 24\n",
      "3 x 9 = 27\n",
      "3 x 10 = 30\n",
      "4 x 1 = 4\n",
      "4 x 2 = 8\n",
      "4 x 3 = 12\n",
      "4 x 4 = 16\n",
      "4 x 5 = 20\n",
      "4 x 6 = 24\n",
      "4 x 7 = 28\n",
      "4 x 8 = 32\n",
      "4 x 9 = 36\n",
      "4 x 10 = 40\n",
      "5 x 1 = 5\n",
      "5 x 2 = 10\n",
      "5 x 3 = 15\n",
      "5 x 4 = 20\n",
      "5 x 5 = 25\n",
      "5 x 6 = 30\n",
      "5 x 7 = 35\n",
      "5 x 8 = 40\n",
      "5 x 9 = 45\n",
      "5 x 10 = 50\n"
     ]
    }
   ],
   "source": [
    "# table = int(input(\"Enter table name : \"))\n",
    "\n",
    "for j in range(2, 6):\n",
    "    \n",
    "    for i in range(1, 11):\n",
    "\n",
    "        print(f\"{j} x {i} = {j*i}\")\n",
    "        "
   ]
  },
  {
   "cell_type": "code",
   "execution_count": 12,
   "id": "0f4e4cd4",
   "metadata": {},
   "outputs": [
    {
     "name": "stdout",
     "output_type": "stream",
     "text": [
      "Enter your name shahid\n"
     ]
    }
   ],
   "source": [
    "name = input(\"Enter your name \")"
   ]
  },
  {
   "cell_type": "code",
   "execution_count": 13,
   "id": "3ebedcdc",
   "metadata": {},
   "outputs": [
    {
     "name": "stdout",
     "output_type": "stream",
     "text": [
      "s\n",
      "h\n",
      "a\n",
      "h\n",
      "i\n",
      "d\n"
     ]
    }
   ],
   "source": [
    "for n in range(0, len(name)):\n",
    "    print(name[n])"
   ]
  },
  {
   "cell_type": "code",
   "execution_count": 14,
   "id": "77292285",
   "metadata": {},
   "outputs": [
    {
     "name": "stdout",
     "output_type": "stream",
     "text": [
      "s\n",
      "h\n",
      "a\n",
      "h\n",
      "i\n",
      "d\n"
     ]
    }
   ],
   "source": [
    "for n in name:\n",
    "    print(n)"
   ]
  },
  {
   "cell_type": "code",
   "execution_count": 25,
   "id": "5cd2fb61",
   "metadata": {},
   "outputs": [
    {
     "name": "stdout",
     "output_type": "stream",
     "text": [
      "0\n",
      "1\n",
      "2\n",
      "3\n",
      "4\n",
      "5\n",
      "6\n",
      "7\n"
     ]
    }
   ],
   "source": [
    "number = 0\n",
    "\n",
    "while number <= 7:\n",
    "    print(number)\n",
    "    number +=1\n",
    "    "
   ]
  },
  {
   "cell_type": "code",
   "execution_count": 20,
   "id": "1bc6e3b6",
   "metadata": {},
   "outputs": [
    {
     "name": "stdout",
     "output_type": "stream",
     "text": [
      "hi\n"
     ]
    }
   ],
   "source": [
    "print('hi')"
   ]
  },
  {
   "cell_type": "code",
   "execution_count": 27,
   "id": "42c4f1a6",
   "metadata": {},
   "outputs": [
    {
     "name": "stdout",
     "output_type": "stream",
     "text": [
      "P -------> Z\n",
      "P -------> I\n",
      "P -------> N\n",
      "P -------> D\n",
      "P -------> A\n",
      "P -------> B\n",
      "P -------> A\n",
      "P -------> D\n",
      "A -------> Z\n",
      "A -------> I\n",
      "A -------> N\n",
      "A -------> D\n",
      "A -------> A\n",
      "A -------> B\n",
      "A -------> A\n",
      "A -------> D\n",
      "K -------> Z\n",
      "K -------> I\n",
      "K -------> N\n",
      "K -------> D\n",
      "K -------> A\n",
      "K -------> B\n",
      "K -------> A\n",
      "K -------> D\n",
      "I -------> Z\n",
      "I -------> I\n",
      "I -------> N\n",
      "I -------> D\n",
      "I -------> A\n",
      "I -------> B\n",
      "I -------> A\n",
      "I -------> D\n",
      "S -------> Z\n",
      "S -------> I\n",
      "S -------> N\n",
      "S -------> D\n",
      "S -------> A\n",
      "S -------> B\n",
      "S -------> A\n",
      "S -------> D\n",
      "T -------> Z\n",
      "T -------> I\n",
      "T -------> N\n",
      "T -------> D\n",
      "T -------> A\n",
      "T -------> B\n",
      "T -------> A\n",
      "T -------> D\n",
      "A -------> Z\n",
      "A -------> I\n",
      "A -------> N\n",
      "A -------> D\n",
      "A -------> A\n",
      "A -------> B\n",
      "A -------> A\n",
      "A -------> D\n",
      "N -------> Z\n",
      "N -------> I\n",
      "N -------> N\n",
      "N -------> D\n",
      "N -------> A\n",
      "N -------> B\n",
      "N -------> A\n",
      "N -------> D\n"
     ]
    }
   ],
   "source": [
    "for i in \"pakistan\":\n",
    "    for j in \"zindabad\":\n",
    "        print(f\"{i.upper()} -------> {j.upper()}\")"
   ]
  },
  {
   "cell_type": "code",
   "execution_count": 29,
   "id": "af5ec64c",
   "metadata": {},
   "outputs": [
    {
     "name": "stdout",
     "output_type": "stream",
     "text": [
      "Enter the number of rows: 6\n",
      "*\n",
      "**\n",
      "***\n",
      "****\n",
      "*****\n",
      "******\n"
     ]
    }
   ],
   "source": [
    "# Ask the user for the number of rows\n",
    "rows = int(input(\"Enter the number of rows: \"))\n",
    "\n",
    "# Nested for loop to print the right-angled triangle\n",
    "for i in range(1, rows + 1):  # Outer loop for rows\n",
    "    for j in range(1, i + 1):  # Inner loop for stars\n",
    "        print(\"*\", end=\"\")  # Print star without a newline\n",
    "    print()  # Move to the next line after each row\n"
   ]
  },
  {
   "cell_type": "code",
   "execution_count": 32,
   "id": "ab6a407a",
   "metadata": {},
   "outputs": [
    {
     "name": "stdout",
     "output_type": "stream",
     "text": [
      "Enter a number: 2\n",
      "\n",
      "Attendance for Student 1:\n",
      "  Day 1 (P/A): p\n",
      "  Day 2 (P/A): p\n",
      "  Day 3 (P/A): p\n",
      "  Day 4 (P/A): p\n",
      "  Day 5 (P/A): p\n",
      "  Day 6 (P/A): p\n",
      "  Day 7 (P/A): p\n",
      "Total Present Days: 7\n",
      "Total Absent Days: 0\n",
      "\n",
      "Attendance for Student 2:\n",
      "  Day 1 (P/A): a\n",
      "  Day 2 (P/A): a\n",
      "  Day 3 (P/A): a\n",
      "  Day 4 (P/A): a\n",
      "  Day 5 (P/A): p\n",
      "  Day 6 (P/A): p\n",
      "  Day 7 (P/A): p\n",
      "Total Present Days: 3\n",
      "Total Absent Days: 4\n"
     ]
    }
   ],
   "source": [
    "# **Attendance Tracker**\n",
    "\n",
    "# Track the attendance of students in a class for a week.\n",
    "\n",
    "# The user enters the number of students and marks attendance (P for Present, A for Absent) for each day.\n",
    "\n",
    "# Display the attendance summary at the end.\n",
    "\n",
    "num_student = input(\"Enter a number: \")\n",
    "\n",
    "# Validate student number input\n",
    "while not num_student.isdigit():\n",
    "    print(\"That's not a valid number! Please try again.\")\n",
    "    num_student = input(\"Enter a number: \")\n",
    "\n",
    "num_student = int(num_student)  # Convert to integer after validation\n",
    "\n",
    "for student in range(1, num_student + 1):\n",
    "    print(f\"\\nAttendance for Student {student}:\")\n",
    "    attendance_count_present = 0\n",
    "    attendance_count_absent = 0\n",
    "\n",
    "    for day in range(1, 8):\n",
    "        while True:  # Loop until valid input is entered\n",
    "            attendance = input(f\"  Day {day} (P/A): \").strip().upper()\n",
    "            if attendance == \"P\":\n",
    "                attendance_count_present += 1\n",
    "                break  # Exit the loop if input is valid\n",
    "            elif attendance == \"A\":\n",
    "                attendance_count_absent += 1\n",
    "                break  # Exit the loop if input is valid\n",
    "            else:\n",
    "                print(\"  Invalid input. Please enter 'P' for present or 'A' for absent.\")\n",
    "\n",
    "    # Print results for the student after all days are entered\n",
    "    print(f\"Total Present Days: {attendance_count_present}\\nTotal Absent Days: {attendance_count_absent}\")"
   ]
  },
  {
   "cell_type": "code",
   "execution_count": 33,
   "id": "6bb4fe8c",
   "metadata": {},
   "outputs": [
    {
     "name": "stdout",
     "output_type": "stream",
     "text": [
      "Enter the parking rate per hour: 100\n",
      "Enter the number of days: 7\n",
      "Enter the number of cars parked on Day1: 1\n",
      "**********************************\n",
      "********** Day1 summary **********\n",
      "Enter the number of hours Car1 was parked: 2\n",
      "The car1 was charged 200 PKR\n",
      "For Day1 the total earning was 200 PKR\n",
      "______________________________\n",
      "Enter the number of cars parked on Day2: 2\n",
      "**********************************\n",
      "********** Day2 summary **********\n",
      "Enter the number of hours Car1 was parked: 2\n",
      "The car1 was charged 200 PKR\n",
      "Enter the number of hours Car2 was parked: 2\n",
      "The car2 was charged 200 PKR\n",
      "For Day2 the total earning was 400 PKR\n",
      "______________________________\n",
      "Enter the number of cars parked on Day3: q\n"
     ]
    },
    {
     "ename": "ValueError",
     "evalue": "invalid literal for int() with base 10: 'q'",
     "output_type": "error",
     "traceback": [
      "\u001b[1;31m---------------------------------------------------------------------------\u001b[0m",
      "\u001b[1;31mValueError\u001b[0m                                Traceback (most recent call last)",
      "Cell \u001b[1;32mIn[33], line 6\u001b[0m\n\u001b[0;32m      4\u001b[0m \u001b[38;5;28;01mfor\u001b[39;00m day \u001b[38;5;129;01min\u001b[39;00m \u001b[38;5;28mrange\u001b[39m(\u001b[38;5;241m1\u001b[39m, days \u001b[38;5;241m+\u001b[39m \u001b[38;5;241m1\u001b[39m):\n\u001b[0;32m      5\u001b[0m     total_earning_per_day \u001b[38;5;241m=\u001b[39m \u001b[38;5;241m0\u001b[39m\n\u001b[1;32m----> 6\u001b[0m     cars_parked \u001b[38;5;241m=\u001b[39m \u001b[38;5;28;43mint\u001b[39;49m\u001b[43m(\u001b[49m\u001b[38;5;28;43minput\u001b[39;49m\u001b[43m(\u001b[49m\u001b[38;5;124;43mf\u001b[39;49m\u001b[38;5;124;43m'\u001b[39;49m\u001b[38;5;124;43mEnter the number of cars parked on Day\u001b[39;49m\u001b[38;5;132;43;01m{\u001b[39;49;00m\u001b[43mday\u001b[49m\u001b[38;5;132;43;01m}\u001b[39;49;00m\u001b[38;5;124;43m: \u001b[39;49m\u001b[38;5;124;43m'\u001b[39;49m\u001b[43m)\u001b[49m\u001b[43m)\u001b[49m     \u001b[38;5;66;03m# Input the number of cars parked each day\u001b[39;00m\n\u001b[0;32m      7\u001b[0m     \u001b[38;5;28mprint\u001b[39m(\u001b[38;5;124m'\u001b[39m\u001b[38;5;124m**********************************\u001b[39m\u001b[38;5;124m'\u001b[39m)\n\u001b[0;32m      8\u001b[0m     \u001b[38;5;28mprint\u001b[39m(\u001b[38;5;124mf\u001b[39m\u001b[38;5;124m'\u001b[39m\u001b[38;5;124m********** Day\u001b[39m\u001b[38;5;132;01m{\u001b[39;00mday\u001b[38;5;132;01m}\u001b[39;00m\u001b[38;5;124m summary **********\u001b[39m\u001b[38;5;124m'\u001b[39m)\n",
      "\u001b[1;31mValueError\u001b[0m: invalid literal for int() with base 10: 'q'"
     ]
    }
   ],
   "source": [
    "total_earning = 0\n",
    "rate_per_hour = int(input('Enter the parking rate per hour: '))                 # Input rate of parking per hour\n",
    "days = int(input('Enter the number of days: '))                                 # Input the number of days you want to use\n",
    "for day in range(1, days + 1):\n",
    "    total_earning_per_day = 0\n",
    "    cars_parked = int(input(f'Enter the number of cars parked on Day{day}: '))     # Input the number of cars parked each day\n",
    "    print('**********************************')\n",
    "    print(f'********** Day{day} summary **********')\n",
    "    for car in range(1, cars_parked+1):\n",
    "        hours = int(input(f'Enter the number of hours Car{car} was parked: '))\n",
    "        charges = rate_per_hour * hours                                         # calculates the fee for each car on particular day\n",
    "        total_earning_per_day += charges                                                    # calculates the total fee for the day\n",
    "        \n",
    "        print(f'The car{car} was charged {charges} PKR')\n",
    "    print(f'For Day{day} the total earning was {total_earning_per_day} PKR')    \n",
    "    total_earning += total_earning_per_day\n",
    "    print('______________________________')\n",
    "print(f'The total earning for {days} Days is {total_earning} PKR')"
   ]
  },
  {
   "cell_type": "code",
   "execution_count": null,
   "id": "35867868",
   "metadata": {},
   "outputs": [],
   "source": []
  }
 ],
 "metadata": {
  "kernelspec": {
   "display_name": "Python 3 (ipykernel)",
   "language": "python",
   "name": "python3"
  },
  "language_info": {
   "codemirror_mode": {
    "name": "ipython",
    "version": 3
   },
   "file_extension": ".py",
   "mimetype": "text/x-python",
   "name": "python",
   "nbconvert_exporter": "python",
   "pygments_lexer": "ipython3",
   "version": "3.10.9"
  }
 },
 "nbformat": 4,
 "nbformat_minor": 5
}
