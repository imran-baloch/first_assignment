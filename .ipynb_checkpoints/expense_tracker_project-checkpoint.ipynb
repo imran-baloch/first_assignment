{
 "cells": [
  {
   "cell_type": "markdown",
   "id": "32bb805c",
   "metadata": {},
   "source": [
    "# Project Features:\n",
    "1. User Profile Setup:\n",
    "● Ask the user to input their name and profession.\n",
    "● Display a personalized welcome message.\n",
    "Example Input:\n",
    "Enter your name: Sarah\n",
    "Enter your profession: Software Engineer\n",
    "\n",
    "Example Output:\n",
    "Welcome, Sarah! Let's analyze your financial health as a Software\n",
    "Engineer."
   ]
  },
  {
   "cell_type": "code",
   "execution_count": 2,
   "id": "5d51c579",
   "metadata": {},
   "outputs": [
    {
     "name": "stdout",
     "output_type": "stream",
     "text": [
      "Your name please : sarah\n",
      "Your profession please : softwre engineer\n",
      "\n",
      "Welcome, Sarah! Let's analyze your financial health as a Softwre Engineer.\n"
     ]
    }
   ],
   "source": [
    "# asking for user name and profession:\n",
    "\n",
    "name = input(\"Your name please : \")\n",
    "profession = input(\"Your profession please : \")\n",
    "\n",
    "print(f\"\\nWelcome, {name.title()}! Let's analyze your financial health as a {profession.title()}.\")\n"
   ]
  },
  {
   "cell_type": "markdown",
   "id": "8b65f20c",
   "metadata": {},
   "source": [
    "# 2. Income and Expense Management:\n",
    "● Ask the user for their monthly income and monthly expenses.\n",
    "● Calculate the savings (Income - Expenses).\n",
    "● Use arithmetic operators to calculate the percentage of income saved.\n",
    "\n",
    "Example Input:\n",
    "Monthly Income: 80000\n",
    "Monthly Expenses: 60000\n",
    "\n",
    "Example Output:\n",
    "Total Savings: 20000\n",
    "Savings Percentage: 25%"
   ]
  },
  {
   "cell_type": "code",
   "execution_count": 20,
   "id": "68ee2587",
   "metadata": {},
   "outputs": [
    {
     "name": "stdout",
     "output_type": "stream",
     "text": [
      "Monthly Income : 80000\n",
      "Monthly Expenses : 60000\n",
      "Total Savings: 20000 Savings Percentage: 25%.\n"
     ]
    }
   ],
   "source": [
    "#asking for monthly income and expenses\n",
    "\n",
    "income = int(input(\"Monthly Income : \"))\n",
    "expenses = int(input(\"Monthly Expenses : \"))\n",
    "\n",
    "#saving / loss calculations\n",
    "savings = income - expenses\n",
    "\n",
    "#calculating percentage\n",
    "percentage = (savings/income)*100\n",
    "\n",
    "print(f\"Total Savings: {savings} Savings Percentage: {int(percentage)}%.\")\n"
   ]
  },
  {
   "cell_type": "markdown",
   "id": "11ff9f0f",
   "metadata": {},
   "source": [
    "# 3. Financial Health Check:\n",
    "● Use nested if-else conditions to provide insights based on the savings percentage:\n",
    "○ If savings are greater than or equal to 20% of income:\n",
    "■ Print: \"Great job, [Name]! You have a strong savings\n",
    "habit.\"\n",
    "\n",
    "○ If savings are between 10% and 20%:\n",
    "■ Print: \"Good, [Name], but you could save a bit more.\"\n",
    "○ If savings are less than 10%:\n",
    "■ Print: \"Warning, [Name]: Your savings are too low.\n",
    "Consider cutting expenses!\""
   ]
  },
  {
   "cell_type": "code",
   "execution_count": 21,
   "id": "296d5d90",
   "metadata": {},
   "outputs": [
    {
     "name": "stdout",
     "output_type": "stream",
     "text": [
      "Great job, Sarah! You have a strong savings habit.\n"
     ]
    }
   ],
   "source": [
    "if percentage >=20:\n",
    "    print(f\"Great job, {name.title()}! You have a strong savings habit.\")\n",
    "elif percentage <20 and percentage>=10:\n",
    "    print(f\"Good job, {name.title()}! but your could save a bit more.\")\n",
    "else:\n",
    "    print(f\"Warning, {name.title()}! Your savings are too low. Consider cutting expenses!\")\n",
    " \n"
   ]
  },
  {
   "cell_type": "markdown",
   "id": "08225e75",
   "metadata": {},
   "source": [
    "# 4. Categorize Expenses:\n",
    "● Ask the user to categorize their expenses into three major areas:\n",
    "1. Essentials (e.g., rent, utilities, groceries)\n",
    "2. Wants (e.g., dining out, entertainment)\n",
    "3. Savings/Investments\n",
    "● Use string operations to display a summary of these categories.\n",
    "Example Input:\n",
    "How much do you spend on Essentials? 40000\n",
    "How much do you spend on Wants? 15000\n",
    "How much do you save or invest? 25000\n",
    "\n",
    "Example Output:\n",
    "Expense Breakdown:\n",
    "Essentials: 50%\n",
    "Wants: 18.75%\n",
    "Savings/Investments: 31.25%"
   ]
  },
  {
   "cell_type": "code",
   "execution_count": 33,
   "id": "61730abb",
   "metadata": {},
   "outputs": [
    {
     "name": "stdout",
     "output_type": "stream",
     "text": [
      "How much do you spend on Essentials? (e.g., rent, utilities, groceries): 40000\n",
      "How much do you spend on Wants? (e.g., dining out, entertainment): 15000\n",
      "How much do you save or invest?: 25000\n",
      "\n",
      "\n",
      "        Expense Breakdown:\n",
      "        _________________\n",
      "\n",
      "        Essentials          : 50.0%\n",
      "        Wants               : 18.75%\n",
      "        Savings/Investments : 31.25%\n",
      "\n"
     ]
    }
   ],
   "source": [
    "essentials = int(input(\"How much do you spend on Essentials? (e.g., rent, utilities, groceries): \"))\n",
    "wants = int(input(\"How much do you spend on Wants? (e.g., dining out, entertainment): \"))\n",
    "savings_investments = int(input(\"How much do you save or invest?: \"))\n",
    "\n",
    "#calculating percentage\n",
    "essentials_percentage = (essentials/income)*100\n",
    "wants_percentage = (wants/income)*100\n",
    "savings_investments_percentage = (savings_investments/income)*100\n",
    "\n",
    "print(f\"\"\"\n",
    "\n",
    "        Expense Breakdown:\n",
    "        _________________\n",
    "\n",
    "        Essentials          : {essentials_percentage}%\n",
    "        Wants               : {wants_percentage}%\n",
    "        Savings/Investments : {savings_investments_percentage}%\n",
    "\"\"\")"
   ]
  },
  {
   "cell_type": "markdown",
   "id": "2e03c933",
   "metadata": {},
   "source": [
    "# 5. Custom Goals:\n",
    "● Allow the user to input a savings goal (in percentage).\n",
    "● Use conditional logic to evaluate if they are meeting their goal:\n",
    "○ If the current savings percentage is greater than or equal to the goal:\n",
    "■ Print: \"Congratulations, [Name]! You’ve achieved your\n",
    "savings goal.\"\n",
    "\n",
    "○ Else:\n",
    "■ Print: \"Keep working on your savings, [Name]. You're\n",
    "[X]% away from your goal.\"\n",
    "\n",
    "Example Input:\n",
    "What is your savings goal (in %)? 30\n",
    "\n",
    "Example Output:\n",
    "Your savings percentage is 25%.\n",
    "Keep working on your savings, Sarah. You're 5% away from your goal."
   ]
  },
  {
   "cell_type": "code",
   "execution_count": 51,
   "id": "ed6d33e7",
   "metadata": {},
   "outputs": [
    {
     "name": "stdout",
     "output_type": "stream",
     "text": [
      "What is your savings goal in(%)30\n",
      "Your savings percentage is 25% keep working on your savings, Sarah. You are 5% away from your goal.\n",
      "    \n"
     ]
    }
   ],
   "source": [
    "savings_goal = int(input(\"What is your savings goal in(%)\"))\n",
    "\n",
    "savings_percentage = 25\n",
    "\n",
    "if  savings_percentage >=savings_goal:\n",
    "    print(f\"Contratulation {name} You have achieved your savings goal \")\n",
    "else:\n",
    "    print(f\"\"\"Your savings percentage is {savings_percentage}% keep working on your savings, {name.title()}. You are {savings_goal-savings_percentage}% away from your goal.\n",
    "    \"\"\")\n",
    "          "
   ]
  },
  {
   "cell_type": "markdown",
   "id": "4377ed80",
   "metadata": {},
   "source": [
    "# 6. Export Summary (Bonus Feature):\n",
    "● Generate a summary of the user’s financial health in a formatted string or save it to a\n",
    "text file.\n",
    "Example Output:\n",
    "Financial Health Summary for Sarah:\n",
    "Income: 80000\n",
    "Expenses: 60000\n",
    "Savings: 20000 (25%)\n",
    "Expense Breakdown:\n",
    "Essentials: 50%\n",
    "Wants: 18.75%\n",
    "Savings/Investments: 31.25%\n",
    "Savings Goal: 30%\n",
    "Status: 5% away from your goal."
   ]
  },
  {
   "cell_type": "code",
   "execution_count": 63,
   "id": "240f3e77",
   "metadata": {},
   "outputs": [
    {
     "name": "stdout",
     "output_type": "stream",
     "text": [
      "\n",
      "    Financial Health Summary for Sarah\n",
      "    \n",
      "    Income          : 80000\n",
      "    Expenses        : 60000\n",
      "    Savings         : 20000 (25.0%)\n",
      "    Expenses Breakdown:\n",
      "       Essentials   : 50.0%\n",
      "       Wants        : 18.75%\n",
      "       Savings/Inv  : 31.25%\n",
      "    Savings Goal    : 30%\n",
      "    Status          : 5% away from your goal\n",
      "    \n",
      "    \n",
      "\n",
      "\n"
     ]
    }
   ],
   "source": [
    "print(f\"\"\"\n",
    "    Financial Health Summary for {name.title()}\n",
    "    \n",
    "    Income            : {income}\n",
    "    Expenses          : {expenses}\n",
    "    Savings           : {savings} ({percentage}%)\n",
    "    Expenses Breakdown:\n",
    "       Essentials     : {essentials_percentage}%\n",
    "       Wants          : {wants_percentage}%\n",
    "       Savings/Inv    : {savings_investments_percentage}%\n",
    "    Savings Goal      : {savings_goal}%\n",
    "    Status            : {savings_goal-savings_percentage}% away from your goal\n",
    "    \n",
    "    \n",
    "\n",
    "\"\"\")"
   ]
  },
  {
   "cell_type": "code",
   "execution_count": null,
   "id": "636def8b",
   "metadata": {},
   "outputs": [],
   "source": []
  }
 ],
 "metadata": {
  "kernelspec": {
   "display_name": "Python 3 (ipykernel)",
   "language": "python",
   "name": "python3"
  },
  "language_info": {
   "codemirror_mode": {
    "name": "ipython",
    "version": 3
   },
   "file_extension": ".py",
   "mimetype": "text/x-python",
   "name": "python",
   "nbconvert_exporter": "python",
   "pygments_lexer": "ipython3",
   "version": "3.10.9"
  }
 },
 "nbformat": 4,
 "nbformat_minor": 5
}
