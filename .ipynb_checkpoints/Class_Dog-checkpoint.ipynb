{
 "cells": [
  {
   "cell_type": "code",
   "execution_count": 16,
   "id": "9ebe25ce",
   "metadata": {},
   "outputs": [],
   "source": [
    "class Dog:\n",
    "    \n",
    "    def __init__(self, name, age):\n",
    "        \n",
    "        self.name = name\n",
    "        self.age = age\n",
    "        \n",
    "    def sit(self):\n",
    "        print(self.name + \" is sitting.\")\n",
    "        \n",
    "    def roll_over(self):\n",
    "        print(self.name + \" roll over.\")\n",
    "    "
   ]
  },
  {
   "cell_type": "code",
   "execution_count": 17,
   "id": "9e57db3d",
   "metadata": {},
   "outputs": [],
   "source": [
    "my_dog = Dog(\"Willi\", 6)"
   ]
  },
  {
   "cell_type": "code",
   "execution_count": 18,
   "id": "54a50b65",
   "metadata": {},
   "outputs": [
    {
     "name": "stdout",
     "output_type": "stream",
     "text": [
      "Willi roll over.\n"
     ]
    }
   ],
   "source": [
    "my_dog.roll_over()"
   ]
  },
  {
   "cell_type": "code",
   "execution_count": 19,
   "id": "c149ba87",
   "metadata": {},
   "outputs": [],
   "source": [
    "your_dog = Dog(\"Puppy\", 7)"
   ]
  },
  {
   "cell_type": "code",
   "execution_count": 20,
   "id": "4e1db12c",
   "metadata": {},
   "outputs": [
    {
     "name": "stdout",
     "output_type": "stream",
     "text": [
      "My dog name is Willi.\n",
      "My dog age is 6 years old.\n"
     ]
    }
   ],
   "source": [
    "print(\"My dog name is \"+my_dog.name.title()+\".\")\n",
    "print(\"My dog age is \"+str(my_dog.age)+\" years old.\")"
   ]
  },
  {
   "cell_type": "code",
   "execution_count": 21,
   "id": "3c3262c8",
   "metadata": {},
   "outputs": [
    {
     "name": "stdout",
     "output_type": "stream",
     "text": [
      "Willi is sitting.\n"
     ]
    }
   ],
   "source": [
    "my_dog.sit()"
   ]
  },
  {
   "cell_type": "code",
   "execution_count": 22,
   "id": "7ef26295",
   "metadata": {},
   "outputs": [
    {
     "name": "stdout",
     "output_type": "stream",
     "text": [
      "Willi roll over.\n"
     ]
    }
   ],
   "source": [
    "my_dog.roll_over()"
   ]
  },
  {
   "cell_type": "code",
   "execution_count": 25,
   "id": "666e9fa7",
   "metadata": {},
   "outputs": [
    {
     "name": "stdout",
     "output_type": "stream",
     "text": [
      "Your dog name is Puppy.\n",
      "Your dog age is 7 years old.\n"
     ]
    }
   ],
   "source": [
    "your_dog = Dog(\"Puppy\", 7)\n",
    "\n",
    "print(\"Your dog name is \"+your_dog.name.title()+\".\")\n",
    "print(\"Your dog age is \"+str(your_dog.age)+\" years old.\")"
   ]
  },
  {
   "cell_type": "code",
   "execution_count": 30,
   "id": "ed3c1e4d",
   "metadata": {},
   "outputs": [
    {
     "name": "stdout",
     "output_type": "stream",
     "text": [
      "\n",
      "My dog name is Willi.\n",
      "My dog age is 6 years old.\n",
      "Willi is sitting.\n",
      "\n",
      "Your dog name is Puppy.\n",
      "Your dog age is 7 years old.\n",
      "Puppy is sitting.\n"
     ]
    }
   ],
   "source": [
    "my_dog = Dog(\"Willi\", 6)\n",
    "your_dog = Dog(\"Puppy\", 7)\n",
    "\n",
    "print(\"\\nMy dog name is \"+my_dog.name.title()+\".\")\n",
    "print(\"My dog age is \"+str(my_dog.age)+\" years old.\")\n",
    "my_dog.sit()\n",
    "\n",
    "\n",
    "print(\"\\nYour dog name is \"+your_dog.name.title()+\".\")\n",
    "print(\"Your dog age is \"+str(your_dog.age)+\" years old.\")\n",
    "your_dog.sit()"
   ]
  },
  {
   "cell_type": "markdown",
   "id": "d2fb7a8d",
   "metadata": {},
   "source": [
    "### Try It Yourse\n",
    "\n",
    "9-1. Restaurant: Make a class called Restaurant. The __init__() method for\n",
    "Restaurant should store two attributes: a restaurant_name and a cuisine_type\n",
    "Make a method called describe_restaurant() that prints these two pieces of \n",
    "information, and a method called open_restaurant() that prints a message indi\u0002cating that the restaurant is open\n",
    "\n",
    "Make an instance called restaurant from your class. Print the two attri\u0002butes individually, and then call both method\n",
    "\n",
    "9-2. Three Restaurants: Start with your class from Exercise 9-1. Create three\n",
    "different instances from the class, and call describe_restaurant() for each \n",
    "instance\n",
    "\n",
    "9-3. Users: Make a class called User. Create two attributes called first_nam\n",
    "and last_name, and then create several other attributes that are typically stored \n",
    "in a user profile. Make a method called describe_user() that prints a summary\n",
    "of the user’s information. Make another method called greet_user() that prints\n",
    "a personalized greeting to the user\n",
    "Create several instances representing different users, and call both methods \n",
    "for each user"
   ]
  },
  {
   "cell_type": "code",
   "execution_count": 84,
   "id": "8d278a6b",
   "metadata": {},
   "outputs": [],
   "source": [
    "#9-1\n",
    "class Restaurant():\n",
    "    \n",
    "    def __init__(self, restaurant_name, cuisine_type):\n",
    "        \n",
    "        self.restaurant_name = restaurant_name\n",
    "        self.cuisine_type = cuisine_type\n",
    "        \n",
    "    def describe_restaurant(self):\n",
    "        print(\"Restaurant name is \" +self.restaurant_name+\". and Cuisine Type is \"+self.cuisine_type+\".\")\n",
    "    def open_restaurant(self):\n",
    "        print(\"The restaurant is open\")\n",
    "        "
   ]
  },
  {
   "cell_type": "code",
   "execution_count": 85,
   "id": "27109c73",
   "metadata": {},
   "outputs": [],
   "source": [
    "my_restaurant= Restaurant(\"baloch cafe\", \"spenish\")"
   ]
  },
  {
   "cell_type": "code",
   "execution_count": 86,
   "id": "01c6e270",
   "metadata": {},
   "outputs": [
    {
     "data": {
      "text/plain": [
       "'baloch cafe'"
      ]
     },
     "execution_count": 86,
     "metadata": {},
     "output_type": "execute_result"
    }
   ],
   "source": [
    "my_restaurant.restaurant_name\n",
    "# my_restaurant.cuisine_type\n",
    "# my_restaurant.open_restaurant()\n",
    "# my_restaurant.describe_restaurant()"
   ]
  },
  {
   "cell_type": "code",
   "execution_count": 87,
   "id": "c610dba0",
   "metadata": {},
   "outputs": [],
   "source": [
    "yours_restaurant = Restaurant(\"zain\", \"pakistani\")"
   ]
  },
  {
   "cell_type": "code",
   "execution_count": 88,
   "id": "01db9f4c",
   "metadata": {},
   "outputs": [
    {
     "name": "stdout",
     "output_type": "stream",
     "text": [
      "Restaurant name is zain. and Cuisine Type is pakistani.\n"
     ]
    }
   ],
   "source": [
    "yours_restaurant.describe_restaurant()"
   ]
  },
  {
   "cell_type": "code",
   "execution_count": 89,
   "id": "f160126d",
   "metadata": {},
   "outputs": [],
   "source": [
    "mine_restaurant = Restaurant(\"mullah zai\", 'irani')"
   ]
  },
  {
   "cell_type": "code",
   "execution_count": 90,
   "id": "716b3158",
   "metadata": {},
   "outputs": [
    {
     "name": "stdout",
     "output_type": "stream",
     "text": [
      "Restaurant name is mullah zai. and Cuisine Type is irani.\n"
     ]
    }
   ],
   "source": [
    "mine_restaurant.describe_restaurant()"
   ]
  },
  {
   "cell_type": "code",
   "execution_count": 92,
   "id": "095fd727",
   "metadata": {},
   "outputs": [],
   "source": [
    "hers_restaurant = Restaurant(\"zainab\", 'afghani')"
   ]
  },
  {
   "cell_type": "code",
   "execution_count": 93,
   "id": "c725d677",
   "metadata": {},
   "outputs": [
    {
     "name": "stdout",
     "output_type": "stream",
     "text": [
      "Restaurant name is zainab. and Cuisine Type is afghani.\n"
     ]
    }
   ],
   "source": [
    "hers_restaurant.describe_restaurant()"
   ]
  },
  {
   "cell_type": "code",
   "execution_count": 94,
   "id": "7fabf82c",
   "metadata": {},
   "outputs": [],
   "source": [
    "hes_restaurant = Restaurant(\"imtiaz\", 'italian')"
   ]
  },
  {
   "cell_type": "code",
   "execution_count": 95,
   "id": "6b049bb8",
   "metadata": {},
   "outputs": [
    {
     "name": "stdout",
     "output_type": "stream",
     "text": [
      "Restaurant name is imtiaz. and Cuisine Type is italian.\n"
     ]
    }
   ],
   "source": [
    "hes_restaurant.describe_restaurant()"
   ]
  },
  {
   "cell_type": "code",
   "execution_count": null,
   "id": "6ef3a88d",
   "metadata": {},
   "outputs": [],
   "source": []
  }
 ],
 "metadata": {
  "kernelspec": {
   "display_name": "Python 3 (ipykernel)",
   "language": "python",
   "name": "python3"
  },
  "language_info": {
   "codemirror_mode": {
    "name": "ipython",
    "version": 3
   },
   "file_extension": ".py",
   "mimetype": "text/x-python",
   "name": "python",
   "nbconvert_exporter": "python",
   "pygments_lexer": "ipython3",
   "version": "3.10.9"
  }
 },
 "nbformat": 4,
 "nbformat_minor": 5
}
